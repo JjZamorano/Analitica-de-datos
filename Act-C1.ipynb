{
 "cells": [
  {
   "cell_type": "markdown",
   "metadata": {},
   "source": [
    "Actividad presentada por: (agregar los nombres)\n"
   ]
  },
  {
   "cell_type": "markdown",
   "metadata": {
    "id": "0zWq_2Uzd9t5"
   },
   "source": [
    "# Contexto\n",
    "Una papelería requiere hacer algunos procedimientos en una parte de su inventario, para lo cual, es necesario agregar, borrar y modificar algunos productos con los que cuenta.\n",
    "Los datos se encuentran en el siguiente frame:"
   ]
  },
  {
   "cell_type": "code",
   "execution_count": 85,
   "metadata": {
    "colab": {
     "base_uri": "https://localhost:8080/",
     "height": 206
    },
    "executionInfo": {
     "elapsed": 252,
     "status": "ok",
     "timestamp": 1723581558567,
     "user": {
      "displayName": "Yuridiana Aleman",
      "userId": "10541617052649941802"
     },
     "user_tz": 360
    },
    "id": "EXATTWLEbFaT",
    "outputId": "ec4b5287-5a56-4a6a-b734-565c8356e5f4"
   },
   "outputs": [
    {
     "data": {
      "text/html": [
       "<div>\n",
       "<style scoped>\n",
       "    .dataframe tbody tr th:only-of-type {\n",
       "        vertical-align: middle;\n",
       "    }\n",
       "\n",
       "    .dataframe tbody tr th {\n",
       "        vertical-align: top;\n",
       "    }\n",
       "\n",
       "    .dataframe thead th {\n",
       "        text-align: right;\n",
       "    }\n",
       "</style>\n",
       "<table border=\"1\" class=\"dataframe\">\n",
       "  <thead>\n",
       "    <tr style=\"text-align: right;\">\n",
       "      <th></th>\n",
       "      <th>Producto</th>\n",
       "      <th>Categoria</th>\n",
       "      <th>Existencia</th>\n",
       "      <th>PrecioCompra</th>\n",
       "    </tr>\n",
       "  </thead>\n",
       "  <tbody>\n",
       "    <tr>\n",
       "      <th>DFG</th>\n",
       "      <td>Lapiz</td>\n",
       "      <td>Escritura</td>\n",
       "      <td>80</td>\n",
       "      <td>5.0</td>\n",
       "    </tr>\n",
       "    <tr>\n",
       "      <th>ESC</th>\n",
       "      <td>Borrador</td>\n",
       "      <td>Pizarron</td>\n",
       "      <td>60</td>\n",
       "      <td>20.0</td>\n",
       "    </tr>\n",
       "    <tr>\n",
       "      <th>FBD</th>\n",
       "      <td>Goma</td>\n",
       "      <td>Escritura</td>\n",
       "      <td>55</td>\n",
       "      <td>10.0</td>\n",
       "    </tr>\n",
       "    <tr>\n",
       "      <th>QWE</th>\n",
       "      <td>Marcador Permanente Negro</td>\n",
       "      <td>Escritura</td>\n",
       "      <td>45</td>\n",
       "      <td>35.0</td>\n",
       "    </tr>\n",
       "    <tr>\n",
       "      <th>RVF</th>\n",
       "      <td>Corrector</td>\n",
       "      <td>Escritura</td>\n",
       "      <td>34</td>\n",
       "      <td>18.0</td>\n",
       "    </tr>\n",
       "    <tr>\n",
       "      <th>UJM</th>\n",
       "      <td>Boligrafo Azul</td>\n",
       "      <td>Escritura</td>\n",
       "      <td>46</td>\n",
       "      <td>5.0</td>\n",
       "    </tr>\n",
       "    <tr>\n",
       "      <th>IOP</th>\n",
       "      <td>Boligrafo Rojo</td>\n",
       "      <td>Escritura</td>\n",
       "      <td>75</td>\n",
       "      <td>5.0</td>\n",
       "    </tr>\n",
       "    <tr>\n",
       "      <th>LJH</th>\n",
       "      <td>Marcador Permanente Azul</td>\n",
       "      <td>Escritura</td>\n",
       "      <td>36</td>\n",
       "      <td>35.0</td>\n",
       "    </tr>\n",
       "    <tr>\n",
       "      <th>GFT</th>\n",
       "      <td>Marcador Permanente Rojo</td>\n",
       "      <td>Escritura</td>\n",
       "      <td>54</td>\n",
       "      <td>35.0</td>\n",
       "    </tr>\n",
       "    <tr>\n",
       "      <th>RDF</th>\n",
       "      <td>Sacapuntas</td>\n",
       "      <td>Escritura</td>\n",
       "      <td>45</td>\n",
       "      <td>20.0</td>\n",
       "    </tr>\n",
       "    <tr>\n",
       "      <th>TGS</th>\n",
       "      <td>Juego De Geometria</td>\n",
       "      <td>Dibujo</td>\n",
       "      <td>65</td>\n",
       "      <td>55.0</td>\n",
       "    </tr>\n",
       "    <tr>\n",
       "      <th>TRE</th>\n",
       "      <td>Lapiz De Dibujo H2</td>\n",
       "      <td>Dibujo</td>\n",
       "      <td>32</td>\n",
       "      <td>23.0</td>\n",
       "    </tr>\n",
       "    <tr>\n",
       "      <th>VSD</th>\n",
       "      <td>Regla 60 Cm</td>\n",
       "      <td>Dibujo</td>\n",
       "      <td>48</td>\n",
       "      <td>30.0</td>\n",
       "    </tr>\n",
       "    <tr>\n",
       "      <th>ASD</th>\n",
       "      <td>Colores Prismacolor</td>\n",
       "      <td>Dibujo</td>\n",
       "      <td>76</td>\n",
       "      <td>150.0</td>\n",
       "    </tr>\n",
       "    <tr>\n",
       "      <th>AQW</th>\n",
       "      <td>Colores Fantasy</td>\n",
       "      <td>Dibujo</td>\n",
       "      <td>28</td>\n",
       "      <td>130.0</td>\n",
       "    </tr>\n",
       "    <tr>\n",
       "      <th>CDE</th>\n",
       "      <td>Hoja Blanca Carta</td>\n",
       "      <td>Papel</td>\n",
       "      <td>36</td>\n",
       "      <td>40.0</td>\n",
       "    </tr>\n",
       "    <tr>\n",
       "      <th>SDF</th>\n",
       "      <td>Hoja Blanca Oficio</td>\n",
       "      <td>Papel</td>\n",
       "      <td>29</td>\n",
       "      <td>50.0</td>\n",
       "    </tr>\n",
       "    <tr>\n",
       "      <th>JHG</th>\n",
       "      <td>Portaminas</td>\n",
       "      <td>Escritura</td>\n",
       "      <td>64</td>\n",
       "      <td>76.0</td>\n",
       "    </tr>\n",
       "    <tr>\n",
       "      <th>FRD</th>\n",
       "      <td>Tijeras</td>\n",
       "      <td>Dibujo</td>\n",
       "      <td>75</td>\n",
       "      <td>45.0</td>\n",
       "    </tr>\n",
       "    <tr>\n",
       "      <th>RTD</th>\n",
       "      <td>Plumon Rojo</td>\n",
       "      <td>Pizarron</td>\n",
       "      <td>65</td>\n",
       "      <td>28.0</td>\n",
       "    </tr>\n",
       "    <tr>\n",
       "      <th>TYH</th>\n",
       "      <td>Plumon Azul</td>\n",
       "      <td>Pizarron</td>\n",
       "      <td>45</td>\n",
       "      <td>28.0</td>\n",
       "    </tr>\n",
       "    <tr>\n",
       "      <th>TRD</th>\n",
       "      <td>Plumon Negro</td>\n",
       "      <td>Pizarron</td>\n",
       "      <td>47</td>\n",
       "      <td>28.0</td>\n",
       "    </tr>\n",
       "    <tr>\n",
       "      <th>TRO</th>\n",
       "      <td>Calcomanias</td>\n",
       "      <td>Otro</td>\n",
       "      <td>100</td>\n",
       "      <td>10.0</td>\n",
       "    </tr>\n",
       "    <tr>\n",
       "      <th>HYU</th>\n",
       "      <td>Clips</td>\n",
       "      <td>Otro</td>\n",
       "      <td>70</td>\n",
       "      <td>16.0</td>\n",
       "    </tr>\n",
       "  </tbody>\n",
       "</table>\n",
       "</div>"
      ],
      "text/plain": [
       "                      Producto  Categoria  Existencia  PrecioCompra\n",
       "DFG                      Lapiz  Escritura          80           5.0\n",
       "ESC                   Borrador   Pizarron          60          20.0\n",
       "FBD                       Goma  Escritura          55          10.0\n",
       "QWE  Marcador Permanente Negro  Escritura          45          35.0\n",
       "RVF                  Corrector  Escritura          34          18.0\n",
       "UJM             Boligrafo Azul  Escritura          46           5.0\n",
       "IOP             Boligrafo Rojo  Escritura          75           5.0\n",
       "LJH   Marcador Permanente Azul  Escritura          36          35.0\n",
       "GFT   Marcador Permanente Rojo  Escritura          54          35.0\n",
       "RDF                 Sacapuntas  Escritura          45          20.0\n",
       "TGS         Juego De Geometria     Dibujo          65          55.0\n",
       "TRE         Lapiz De Dibujo H2     Dibujo          32          23.0\n",
       "VSD                Regla 60 Cm     Dibujo          48          30.0\n",
       "ASD        Colores Prismacolor     Dibujo          76         150.0\n",
       "AQW            Colores Fantasy     Dibujo          28         130.0\n",
       "CDE          Hoja Blanca Carta      Papel          36          40.0\n",
       "SDF         Hoja Blanca Oficio      Papel          29          50.0\n",
       "JHG                 Portaminas  Escritura          64          76.0\n",
       "FRD                    Tijeras     Dibujo          75          45.0\n",
       "RTD                Plumon Rojo   Pizarron          65          28.0\n",
       "TYH                Plumon Azul   Pizarron          45          28.0\n",
       "TRD               Plumon Negro   Pizarron          47          28.0\n",
       "TRO                Calcomanias       Otro         100          10.0\n",
       "HYU                      Clips       Otro          70          16.0"
      ]
     },
     "execution_count": 85,
     "metadata": {},
     "output_type": "execute_result"
    }
   ],
   "source": [
    "import pandas as pd\n",
    "from pandas import Series, DataFrame\n",
    "import numpy as np\n",
    "Claves=['DFG', 'ESC', 'FBD', 'QWE', 'RVF', 'UJM', 'IOP', 'LJH', 'GFT', 'RDF', 'TGS', 'TRE', 'VSD', 'ASD', 'AQW', 'CDE', 'SDF', 'JHG', 'FRD', 'RTD', 'TYH', 'TRD', 'TRO', 'HYU']\n",
    "\n",
    "\n",
    "data={'Producto': ['Lapiz', 'Borrador', 'Goma', 'Marcador Permanente Negro', 'Corrector', 'Boligrafo Azul', 'Boligrafo Rojo', 'Marcador Permanente Azul', 'Marcador Permanente Rojo', 'Sacapuntas', 'Juego De Geometria', 'Lapiz De Dibujo H2', 'Regla 60 Cm', 'Colores Prismacolor', 'Colores Fantasy', 'Hoja Blanca Carta', 'Hoja Blanca Oficio', 'Portaminas', 'Tijeras', 'Plumon Rojo', 'Plumon Azul', 'Plumon Negro', 'Calcomanias', 'Clips'],'Categoria': ['Escritura', 'Pizarron', 'Escritura', 'Escritura', 'Escritura', 'Escritura', 'Escritura', 'Escritura', 'Escritura', 'Escritura', 'Dibujo', 'Dibujo', 'Dibujo', 'Dibujo', 'Dibujo', 'Papel', 'Papel', 'Escritura', 'Dibujo', 'Pizarron', 'Pizarron', 'Pizarron', 'Otro', 'Otro'],'Existencia': [80, 60, 55, 45, 34, 46, 75, 36, 54, 45, 65, 32, 48, 76, 28, 36, 29, 64, 75, 65, 45, 47, 100, 70],'PrecioCompra': [5.0, 20.0, 10.0, 35.0, 18.0, 5.0, 5.0, 35.0, 35.0, 20.0, 55.0, 23.0, 30.0, 150.0, 130.0, 40.0, 50.0, 76.0, 45.0, 28.0, 28.0, 28.0, 10.0, 16.0]}\n",
    "df=pd.DataFrame(data, index=Claves)\n",
    "\n",
    "df\n",
    "\n"
   ]
  },
  {
   "cell_type": "markdown",
   "metadata": {},
   "source": [
    "Se te pide que realices los siguientes procedimientos para ayudar a los dueños en el proceso de toma de decisiones. Agrega el código que resuelve los problemas planteados, al final, convierte el documento a HTML para enviarlo en el apartado correspondiente de canvas"
   ]
  },
  {
   "cell_type": "markdown",
   "metadata": {
    "id": "fir2D99MeQgm"
   },
   "source": [
    "## Modificar etiquetas/valores (20 puntos)\n",
    "Se notó que se cometieron algunos errores al momento de capturar los datos de los productos, por lo que es necesario realizar las siguientes correcciones:\n",
    "\n",
    "1. En los nombres de columnas/filas, modifica la columna ‘Producto’ por 'Nombre'\n",
    "\n",
    "2. En los valores: El nombre correcto del producto de la clave ‘TRE’ es ‘Lapiz H2’ (Recuerda que ahora la columna se llama 'Nombre') y solo se tienen 50 unidades del producto con la clave ‘TRO’\n",
    "\n",
    "Imprime la columna Nombre y Existencia de las claves TRE y TRO para comprobar los cambios realizados"
   ]
  },
  {
   "cell_type": "code",
   "execution_count": 86,
   "metadata": {
    "colab": {
     "base_uri": "https://localhost:8080/",
     "height": 143
    },
    "executionInfo": {
     "elapsed": 13,
     "status": "ok",
     "timestamp": 1723581558784,
     "user": {
      "displayName": "Yuridiana Aleman",
      "userId": "10541617052649941802"
     },
     "user_tz": 360
    },
    "id": "vXZkuwzFfRmU",
    "outputId": "00dc03ed-ddf2-47d8-ef06-20b480fd9491"
   },
   "outputs": [
    {
     "name": "stdout",
     "output_type": "stream",
     "text": [
      "          Nombre  Existencia\n",
      "TRE     Lapiz H2          32\n",
      "TRO  Calcomanias          50\n"
     ]
    }
   ],
   "source": [
    "#Modificar etiquetas\\Valores\n",
    "df=df.rename(columns={'Producto':'Nombre'})\n",
    "\n",
    "df.loc['TRE','Nombre'] = 'Lapiz H2'\n",
    "\n",
    "df.loc['TRO','Existencia'] = 50\n",
    "\n",
    "print(df.loc[['TRE', 'TRO'], ['Nombre', 'Existencia']])\n",
    "\n"
   ]
  },
  {
   "cell_type": "markdown",
   "metadata": {
    "id": "3jj3wtCDzL7C"
   },
   "source": [
    "## Agregar columnas (30 puntos)\n",
    "Se deben calcular otros datos a fin de tener más información de los productos. Por lo tanto, se deben agregar las siguientes columnas al DataFrame:\n",
    "\n",
    "3. ‘PrecioVenta’: De cada producto, se aumentará en un 30% el precio de compra.\n",
    "\n",
    "4. ‘GananciaInventario’: Ganancia en caso de que se venda toda la existencia del producto (OJO: Ganancia, no total de la venta)\n",
    "\n",
    "Imprime los últimos 5 registros del frame para comprobar\n"
   ]
  },
  {
   "cell_type": "code",
   "execution_count": 87,
   "metadata": {
    "colab": {
     "base_uri": "https://localhost:8080/",
     "height": 206
    },
    "executionInfo": {
     "elapsed": 10,
     "status": "ok",
     "timestamp": 1723581558784,
     "user": {
      "displayName": "Yuridiana Aleman",
      "userId": "10541617052649941802"
     },
     "user_tz": 360
    },
    "id": "PwIQJl-hhwg4",
    "outputId": "07bd1dd7-f274-4f09-d74a-7d9d0196ac34"
   },
   "outputs": [
    {
     "name": "stdout",
     "output_type": "stream",
     "text": [
      "           Nombre Categoria  Existencia  PrecioCompra  PrecioVenta  \\\n",
      "RTD   Plumon Rojo  Pizarron          65          28.0         36.4   \n",
      "TYH   Plumon Azul  Pizarron          45          28.0         36.4   \n",
      "TRD  Plumon Negro  Pizarron          47          28.0         36.4   \n",
      "TRO   Calcomanias      Otro          50          10.0         13.0   \n",
      "HYU         Clips      Otro          70          16.0         20.8   \n",
      "\n",
      "     GananciaInventario  \n",
      "RTD               546.0  \n",
      "TYH               378.0  \n",
      "TRD               394.8  \n",
      "TRO               150.0  \n",
      "HYU               336.0  \n"
     ]
    }
   ],
   "source": [
    "df[\"PrecioVenta\"]=df[\"PrecioCompra\"] * 1.30\n",
    "\n",
    "df['GananciaInventario']=(df['PrecioVenta'] - df['PrecioCompra']) * df['Existencia']\n",
    "\n",
    "print(df.loc[['RTD', 'TYH', 'TRD', 'TRO', 'HYU']])\n",
    "\n"
   ]
  },
  {
   "cell_type": "markdown",
   "metadata": {
    "id": "1Vu9aAlbzcrq"
   },
   "source": [
    "5. También se necesita una columna con un valor de ‘Si’ o ‘No’ (con el nombre que prefieras), dependiendo si se necesita surtir el producto. La papelería considera que un producto se debe de surtir cuando se tienen 40 o menos unidades de ese producto en existencia. Imprime los primeros 6 registros del frame para comprobar"
   ]
  },
  {
   "cell_type": "code",
   "execution_count": 88,
   "metadata": {
    "colab": {
     "base_uri": "https://localhost:8080/",
     "height": 206
    },
    "executionInfo": {
     "elapsed": 9,
     "status": "ok",
     "timestamp": 1723581558784,
     "user": {
      "displayName": "Yuridiana Aleman",
      "userId": "10541617052649941802"
     },
     "user_tz": 360
    },
    "id": "miVMexW1rAdu",
    "outputId": "0e9de46e-1943-4876-a80e-8954595dd2ab"
   },
   "outputs": [
    {
     "name": "stdout",
     "output_type": "stream",
     "text": [
      "                        Nombre  Categoria  Existencia  PrecioCompra  \\\n",
      "DFG                      Lapiz  Escritura          80           5.0   \n",
      "ESC                   Borrador   Pizarron          60          20.0   \n",
      "FBD                       Goma  Escritura          55          10.0   \n",
      "QWE  Marcador Permanente Negro  Escritura          45          35.0   \n",
      "RVF                  Corrector  Escritura          34          18.0   \n",
      "UJM             Boligrafo Azul  Escritura          46           5.0   \n",
      "\n",
      "     PrecioVenta  GananciaInventario Resurtir  \n",
      "DFG          6.5               120.0       No  \n",
      "ESC         26.0               360.0       No  \n",
      "FBD         13.0               165.0       No  \n",
      "QWE         45.5               472.5       No  \n",
      "RVF         23.4               183.6      Sí  \n",
      "UJM          6.5                69.0       No  \n"
     ]
    }
   ],
   "source": [
    "df[\"Resurtir\"]=np.where(df[\"Existencia\"]<=40,\"Sí\",\"No\")\n",
    "print(df.loc[[\"DFG\",\"ESC\",\"FBD\",\"QWE\",\"RVF\",\"UJM\"]])"
   ]
  },
  {
   "cell_type": "markdown",
   "metadata": {
    "id": "jda7QdYYzgKX"
   },
   "source": [
    "## Operaciones básicas (10 puntos)\n",
    "6.\tSe necesitan obtener los siguientes datos del DataFrame.\n",
    "\n",
    "•\tEl total de productos en existencia (No cuántos productos distintos hay, sino cuántas unidades se tienen en total, toma en cuenta la existencia por producto)\n",
    "\n",
    "•\tTotal de productos distintos\n",
    "\n",
    "•\tPromedio de precio de venta\n",
    "\n",
    "•\tTotal de ganancias en caso de que se venda todo el inventario"
   ]
  },
  {
   "cell_type": "code",
   "execution_count": 89,
   "metadata": {
    "colab": {
     "base_uri": "https://localhost:8080/"
    },
    "executionInfo": {
     "elapsed": 9,
     "status": "ok",
     "timestamp": 1723581558784,
     "user": {
      "displayName": "Yuridiana Aleman",
      "userId": "10541617052649941802"
     },
     "user_tz": 360
    },
    "id": "18Xx_MoTrPoQ",
    "outputId": "dfdb598d-eb9e-4e89-ec40-1a34df3c3475"
   },
   "outputs": [
    {
     "name": "stdout",
     "output_type": "stream",
     "text": [
      "Total de unidades en existencia: 1260\n",
      "Total de productos distintos: Nombre                24\n",
      "Categoria             24\n",
      "Existencia            24\n",
      "PrecioCompra          24\n",
      "PrecioVenta           24\n",
      "GananciaInventario    24\n",
      "Resurtir              24\n",
      "dtype: int64\n",
      "Promedio de precio de venta: $48.59\n",
      "Total de ganancias potenciales: $14078.40\n"
     ]
    }
   ],
   "source": [
    "total_existencia = df['Existencia'].sum()\n",
    "\n",
    "total_productos = df.count()\n",
    "\n",
    "promedio_venta = df['PrecioVenta'].mean()\n",
    "\n",
    "total_ganancias = df['GananciaInventario'].sum()\n",
    "\n",
    "print(f\"Total de unidades en existencia: {total_existencia}\")\n",
    "print(f\"Total de productos distintos: {total_productos}\")\n",
    "print(f\"Promedio de precio de venta: ${promedio_venta:.2f}\")\n",
    "print(f\"Total de ganancias potenciales: ${total_ganancias:.2f}\")"
   ]
  },
  {
   "cell_type": "markdown",
   "metadata": {
    "id": "oQs0o38ha57H"
   },
   "source": [
    "## Seleccionar/Eliminar datos (20 puntos)\n",
    "\n",
    "7. Se requieren visualizar los siguientes datos:\n",
    "\n",
    "•\tNombre, categoría y precio de venta de los productos con las claves ‘ESC’ y’UJM’\n",
    "\n",
    "•\tColumnas 0, 4 y 3 de los productos en las posiciones 4,1,7 y 2\n"
   ]
  },
  {
   "cell_type": "code",
   "execution_count": 90,
   "metadata": {
    "colab": {
     "base_uri": "https://localhost:8080/",
     "height": 143
    },
    "executionInfo": {
     "elapsed": 5,
     "status": "ok",
     "timestamp": 1723581559084,
     "user": {
      "displayName": "Yuridiana Aleman",
      "userId": "10541617052649941802"
     },
     "user_tz": 360
    },
    "id": "s_3fK6CAbFi1",
    "outputId": "8b4a6db0-036d-493f-96f8-28f96264a1e4"
   },
   "outputs": [
    {
     "name": "stdout",
     "output_type": "stream",
     "text": [
      "ESC y UJM:\n",
      "             Nombre  Categoria  PrecioVenta\n",
      "ESC        Borrador   Pizarron         26.0\n",
      "UJM  Boligrafo Azul  Escritura          6.5\n",
      "Posiciones:\n",
      "                       Nombre  PrecioVenta  PrecioCompra\n",
      "RVF                 Corrector         23.4          18.0\n",
      "ESC                  Borrador         26.0          20.0\n",
      "LJH  Marcador Permanente Azul         45.5          35.0\n",
      "FBD                      Goma         13.0          10.0\n"
     ]
    }
   ],
   "source": [
    "print(\"ESC y UJM:\")\n",
    "print(df.loc[['ESC', 'UJM'], ['Nombre', 'Categoria', 'PrecioVenta']])\n",
    "\n",
    "\n",
    "print(\"Posiciones:\")\n",
    "print(df.iloc[[4,1,7,2], [0,4,3]])"
   ]
  },
  {
   "cell_type": "markdown",
   "metadata": {
    "id": "ErQr_fLhb0Je"
   },
   "source": [
    "8. Una vez obtenido los datos anteriores, es necesario borrar las siguientes filas:\n",
    "’HYU’,’IOP’,’TRE’\n",
    "\n",
    "y columnas: ‘PrecioCompra’'GananciaInventario’. Imprime el total de filas, columnas que tiene el frame"
   ]
  },
  {
   "cell_type": "code",
   "execution_count": 91,
   "metadata": {
    "colab": {
     "base_uri": "https://localhost:8080/"
    },
    "executionInfo": {
     "elapsed": 2,
     "status": "ok",
     "timestamp": 1723581559538,
     "user": {
      "displayName": "Yuridiana Aleman",
      "userId": "10541617052649941802"
     },
     "user_tz": 360
    },
    "id": "hFvAXgcabzui",
    "outputId": "eafa354f-5db7-42a5-e841-7de03de6ce90"
   },
   "outputs": [
    {
     "data": {
      "text/html": [
       "<div>\n",
       "<style scoped>\n",
       "    .dataframe tbody tr th:only-of-type {\n",
       "        vertical-align: middle;\n",
       "    }\n",
       "\n",
       "    .dataframe tbody tr th {\n",
       "        vertical-align: top;\n",
       "    }\n",
       "\n",
       "    .dataframe thead th {\n",
       "        text-align: right;\n",
       "    }\n",
       "</style>\n",
       "<table border=\"1\" class=\"dataframe\">\n",
       "  <thead>\n",
       "    <tr style=\"text-align: right;\">\n",
       "      <th></th>\n",
       "      <th>Nombre</th>\n",
       "      <th>Categoria</th>\n",
       "      <th>Existencia</th>\n",
       "      <th>PrecioVenta</th>\n",
       "      <th>Resurtir</th>\n",
       "    </tr>\n",
       "  </thead>\n",
       "  <tbody>\n",
       "    <tr>\n",
       "      <th>DFG</th>\n",
       "      <td>Lapiz</td>\n",
       "      <td>Escritura</td>\n",
       "      <td>80</td>\n",
       "      <td>6.5</td>\n",
       "      <td>No</td>\n",
       "    </tr>\n",
       "    <tr>\n",
       "      <th>ESC</th>\n",
       "      <td>Borrador</td>\n",
       "      <td>Pizarron</td>\n",
       "      <td>60</td>\n",
       "      <td>26.0</td>\n",
       "      <td>No</td>\n",
       "    </tr>\n",
       "    <tr>\n",
       "      <th>FBD</th>\n",
       "      <td>Goma</td>\n",
       "      <td>Escritura</td>\n",
       "      <td>55</td>\n",
       "      <td>13.0</td>\n",
       "      <td>No</td>\n",
       "    </tr>\n",
       "    <tr>\n",
       "      <th>QWE</th>\n",
       "      <td>Marcador Permanente Negro</td>\n",
       "      <td>Escritura</td>\n",
       "      <td>45</td>\n",
       "      <td>45.5</td>\n",
       "      <td>No</td>\n",
       "    </tr>\n",
       "    <tr>\n",
       "      <th>RVF</th>\n",
       "      <td>Corrector</td>\n",
       "      <td>Escritura</td>\n",
       "      <td>34</td>\n",
       "      <td>23.4</td>\n",
       "      <td>Sí</td>\n",
       "    </tr>\n",
       "    <tr>\n",
       "      <th>UJM</th>\n",
       "      <td>Boligrafo Azul</td>\n",
       "      <td>Escritura</td>\n",
       "      <td>46</td>\n",
       "      <td>6.5</td>\n",
       "      <td>No</td>\n",
       "    </tr>\n",
       "    <tr>\n",
       "      <th>LJH</th>\n",
       "      <td>Marcador Permanente Azul</td>\n",
       "      <td>Escritura</td>\n",
       "      <td>36</td>\n",
       "      <td>45.5</td>\n",
       "      <td>Sí</td>\n",
       "    </tr>\n",
       "    <tr>\n",
       "      <th>GFT</th>\n",
       "      <td>Marcador Permanente Rojo</td>\n",
       "      <td>Escritura</td>\n",
       "      <td>54</td>\n",
       "      <td>45.5</td>\n",
       "      <td>No</td>\n",
       "    </tr>\n",
       "    <tr>\n",
       "      <th>RDF</th>\n",
       "      <td>Sacapuntas</td>\n",
       "      <td>Escritura</td>\n",
       "      <td>45</td>\n",
       "      <td>26.0</td>\n",
       "      <td>No</td>\n",
       "    </tr>\n",
       "    <tr>\n",
       "      <th>TGS</th>\n",
       "      <td>Juego De Geometria</td>\n",
       "      <td>Dibujo</td>\n",
       "      <td>65</td>\n",
       "      <td>71.5</td>\n",
       "      <td>No</td>\n",
       "    </tr>\n",
       "    <tr>\n",
       "      <th>VSD</th>\n",
       "      <td>Regla 60 Cm</td>\n",
       "      <td>Dibujo</td>\n",
       "      <td>48</td>\n",
       "      <td>39.0</td>\n",
       "      <td>No</td>\n",
       "    </tr>\n",
       "    <tr>\n",
       "      <th>ASD</th>\n",
       "      <td>Colores Prismacolor</td>\n",
       "      <td>Dibujo</td>\n",
       "      <td>76</td>\n",
       "      <td>195.0</td>\n",
       "      <td>No</td>\n",
       "    </tr>\n",
       "    <tr>\n",
       "      <th>AQW</th>\n",
       "      <td>Colores Fantasy</td>\n",
       "      <td>Dibujo</td>\n",
       "      <td>28</td>\n",
       "      <td>169.0</td>\n",
       "      <td>Sí</td>\n",
       "    </tr>\n",
       "    <tr>\n",
       "      <th>CDE</th>\n",
       "      <td>Hoja Blanca Carta</td>\n",
       "      <td>Papel</td>\n",
       "      <td>36</td>\n",
       "      <td>52.0</td>\n",
       "      <td>Sí</td>\n",
       "    </tr>\n",
       "    <tr>\n",
       "      <th>SDF</th>\n",
       "      <td>Hoja Blanca Oficio</td>\n",
       "      <td>Papel</td>\n",
       "      <td>29</td>\n",
       "      <td>65.0</td>\n",
       "      <td>Sí</td>\n",
       "    </tr>\n",
       "    <tr>\n",
       "      <th>JHG</th>\n",
       "      <td>Portaminas</td>\n",
       "      <td>Escritura</td>\n",
       "      <td>64</td>\n",
       "      <td>98.8</td>\n",
       "      <td>No</td>\n",
       "    </tr>\n",
       "    <tr>\n",
       "      <th>FRD</th>\n",
       "      <td>Tijeras</td>\n",
       "      <td>Dibujo</td>\n",
       "      <td>75</td>\n",
       "      <td>58.5</td>\n",
       "      <td>No</td>\n",
       "    </tr>\n",
       "    <tr>\n",
       "      <th>RTD</th>\n",
       "      <td>Plumon Rojo</td>\n",
       "      <td>Pizarron</td>\n",
       "      <td>65</td>\n",
       "      <td>36.4</td>\n",
       "      <td>No</td>\n",
       "    </tr>\n",
       "    <tr>\n",
       "      <th>TYH</th>\n",
       "      <td>Plumon Azul</td>\n",
       "      <td>Pizarron</td>\n",
       "      <td>45</td>\n",
       "      <td>36.4</td>\n",
       "      <td>No</td>\n",
       "    </tr>\n",
       "    <tr>\n",
       "      <th>TRD</th>\n",
       "      <td>Plumon Negro</td>\n",
       "      <td>Pizarron</td>\n",
       "      <td>47</td>\n",
       "      <td>36.4</td>\n",
       "      <td>No</td>\n",
       "    </tr>\n",
       "    <tr>\n",
       "      <th>TRO</th>\n",
       "      <td>Calcomanias</td>\n",
       "      <td>Otro</td>\n",
       "      <td>50</td>\n",
       "      <td>13.0</td>\n",
       "      <td>No</td>\n",
       "    </tr>\n",
       "  </tbody>\n",
       "</table>\n",
       "</div>"
      ],
      "text/plain": [
       "                        Nombre  Categoria  Existencia  PrecioVenta Resurtir\n",
       "DFG                      Lapiz  Escritura          80          6.5       No\n",
       "ESC                   Borrador   Pizarron          60         26.0       No\n",
       "FBD                       Goma  Escritura          55         13.0       No\n",
       "QWE  Marcador Permanente Negro  Escritura          45         45.5       No\n",
       "RVF                  Corrector  Escritura          34         23.4      Sí\n",
       "UJM             Boligrafo Azul  Escritura          46          6.5       No\n",
       "LJH   Marcador Permanente Azul  Escritura          36         45.5      Sí\n",
       "GFT   Marcador Permanente Rojo  Escritura          54         45.5       No\n",
       "RDF                 Sacapuntas  Escritura          45         26.0       No\n",
       "TGS         Juego De Geometria     Dibujo          65         71.5       No\n",
       "VSD                Regla 60 Cm     Dibujo          48         39.0       No\n",
       "ASD        Colores Prismacolor     Dibujo          76        195.0       No\n",
       "AQW            Colores Fantasy     Dibujo          28        169.0      Sí\n",
       "CDE          Hoja Blanca Carta      Papel          36         52.0      Sí\n",
       "SDF         Hoja Blanca Oficio      Papel          29         65.0      Sí\n",
       "JHG                 Portaminas  Escritura          64         98.8       No\n",
       "FRD                    Tijeras     Dibujo          75         58.5       No\n",
       "RTD                Plumon Rojo   Pizarron          65         36.4       No\n",
       "TYH                Plumon Azul   Pizarron          45         36.4       No\n",
       "TRD               Plumon Negro   Pizarron          47         36.4       No\n",
       "TRO                Calcomanias       Otro          50         13.0       No"
      ]
     },
     "execution_count": 91,
     "metadata": {},
     "output_type": "execute_result"
    }
   ],
   "source": [
    "df=df.drop(columns=['PrecioCompra', 'GananciaInventario'])\n",
    "df=df.drop(['HYU', 'IOP', 'TRE'])\n",
    "df"
   ]
  },
  {
   "cell_type": "markdown",
   "metadata": {
    "id": "-Im--hqtzrIz"
   },
   "source": [
    "## Ordenar/Filtrar (20 puntos)\n",
    "Finalmente, se requiere ordenar los datos con los siguientes parámetros a fin de tomar decisiones importantes:\n",
    "\n",
    "9. Mostrar el nombre y categoría de los productos que se necesitan surtir"
   ]
  },
  {
   "cell_type": "code",
   "execution_count": 92,
   "metadata": {
    "colab": {
     "base_uri": "https://localhost:8080/",
     "height": 206
    },
    "executionInfo": {
     "elapsed": 305,
     "status": "ok",
     "timestamp": 1723581604863,
     "user": {
      "displayName": "Yuridiana Aleman",
      "userId": "10541617052649941802"
     },
     "user_tz": 360
    },
    "id": "7uxnec3PrwrB",
    "outputId": "757a351e-131f-4c27-a126-74cfc55e6a1f"
   },
   "outputs": [
    {
     "name": "stdout",
     "output_type": "stream",
     "text": [
      "                       Nombre Resurtir  Categoria\n",
      "RVF                 Corrector      Sí  Escritura\n",
      "LJH  Marcador Permanente Azul      Sí  Escritura\n",
      "AQW           Colores Fantasy      Sí     Dibujo\n",
      "CDE         Hoja Blanca Carta      Sí      Papel\n",
      "SDF        Hoja Blanca Oficio      Sí      Papel\n"
     ]
    }
   ],
   "source": [
    "productos_a_surtir = df[df['Existencia'] < 40][['Nombre','Resurtir', 'Categoria']]\n",
    "\n",
    "print(productos_a_surtir)"
   ]
  },
  {
   "cell_type": "markdown",
   "metadata": {
    "id": "fERJ8aGGz1P-"
   },
   "source": [
    "10.\tMostrar todos los productos ordenados por categoría en orden ascendente y precio de venta en orden descendente"
   ]
  },
  {
   "cell_type": "code",
   "execution_count": 93,
   "metadata": {
    "colab": {
     "base_uri": "https://localhost:8080/",
     "height": 802
    },
    "executionInfo": {
     "elapsed": 205,
     "status": "ok",
     "timestamp": 1723581621815,
     "user": {
      "displayName": "Yuridiana Aleman",
      "userId": "10541617052649941802"
     },
     "user_tz": 360
    },
    "id": "gJaS9Cypr1_K",
    "outputId": "c6f49aab-3585-4b51-9c53-d97888cb9b89"
   },
   "outputs": [
    {
     "name": "stdout",
     "output_type": "stream",
     "text": [
      "                        Nombre  Categoria  Existencia  PrecioVenta Resurtir\n",
      "ASD        Colores Prismacolor     Dibujo          76        195.0       No\n",
      "AQW            Colores Fantasy     Dibujo          28        169.0      Sí\n",
      "TGS         Juego De Geometria     Dibujo          65         71.5       No\n",
      "FRD                    Tijeras     Dibujo          75         58.5       No\n",
      "VSD                Regla 60 Cm     Dibujo          48         39.0       No\n",
      "JHG                 Portaminas  Escritura          64         98.8       No\n",
      "QWE  Marcador Permanente Negro  Escritura          45         45.5       No\n",
      "LJH   Marcador Permanente Azul  Escritura          36         45.5      Sí\n",
      "GFT   Marcador Permanente Rojo  Escritura          54         45.5       No\n",
      "RDF                 Sacapuntas  Escritura          45         26.0       No\n",
      "RVF                  Corrector  Escritura          34         23.4      Sí\n",
      "FBD                       Goma  Escritura          55         13.0       No\n",
      "DFG                      Lapiz  Escritura          80          6.5       No\n",
      "UJM             Boligrafo Azul  Escritura          46          6.5       No\n",
      "TRO                Calcomanias       Otro          50         13.0       No\n",
      "SDF         Hoja Blanca Oficio      Papel          29         65.0      Sí\n",
      "CDE          Hoja Blanca Carta      Papel          36         52.0      Sí\n",
      "RTD                Plumon Rojo   Pizarron          65         36.4       No\n",
      "TYH                Plumon Azul   Pizarron          45         36.4       No\n",
      "TRD               Plumon Negro   Pizarron          47         36.4       No\n",
      "ESC                   Borrador   Pizarron          60         26.0       No\n"
     ]
    }
   ],
   "source": [
    "print(df.sort_values(by=[\"Categoria\", \"PrecioVenta\"], ascending=[True, False]))"
   ]
  }
 ],
 "metadata": {
  "colab": {
   "authorship_tag": "ABX9TyMpV1oNToG0mA88ZwJK3m5R",
   "provenance": []
  },
  "kernelspec": {
   "display_name": "Python 3",
   "language": "python",
   "name": "python3"
  },
  "language_info": {
   "codemirror_mode": {
    "name": "ipython",
    "version": 3
   },
   "file_extension": ".py",
   "mimetype": "text/x-python",
   "name": "python",
   "nbconvert_exporter": "python",
   "pygments_lexer": "ipython3",
   "version": "3.13.2"
  }
 },
 "nbformat": 4,
 "nbformat_minor": 0
}
